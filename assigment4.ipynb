{
 "cells": [
  {
   "cell_type": "markdown",
   "id": "5ef34449",
   "metadata": {},
   "source": [
    "### Assigment 4\n",
    "\n",
    "**Submission deadlines**:\n",
    "\n",
    "* get at least 4 points by Tuesday, 12.05.2022\n",
    "* remaining points: last lab session before or on Tuesday, 19.05.2022\n",
    "\n",
    "**Points:** Aim to get 12 out of 15+ possible points\n",
    "\n",
    "All needed data files are on Drive: <https://drive.google.com/drive/folders/1HaMbhzaBxxNa_z_QJXSDCbv5VddmhVVZ?usp=sharing> (or will be soon :) )\n",
    "\n",
    "## Task 1 (5 points)\n",
    "\n",
    "Implement simplified word2vec with negative sampling from scratch (using pure numpy). Assume that in the training data objects and contexts are given explicitly, one pair per line, and objects are on the left. The result of the training should be object vectors. Please, write them to a file using *natural* text format, ie\n",
    "\n",
    "<pre>\n",
    "word1 x1_1 x1_2 ... x1_N \n",
    "word2 x2_1 x2_2 ... x2_N\n",
    "...\n",
    "wordK xK_1 xK_2 ... xk_N\n",
    "</pre>\n",
    "\n",
    "Use the loss from Slide 3 in Lecture NLP.2, compute the gradient manually. You can use some gradient clipping, or regularisation. \n",
    "\n",
    "**Remark**: the data is specially prepared to make the learning process easier. \n",
    "Present vectors using the code below. In this task we define success as 'obtaining a result which looks definitely not random'\n"
   ]
  },
  {
   "cell_type": "code",
   "execution_count": 4,
   "outputs": [],
   "source": [
    "import pandas as pd\n",
    "import numpy as np\n",
    "from collections import defaultdict\n",
    "from tqdm.auto import tqdm\n",
    "\n",
    "# https://www.jasonosajima.com/ns.html"
   ],
   "metadata": {
    "collapsed": false,
    "pycharm": {
     "name": "#%%\n"
    }
   }
  },
  {
   "cell_type": "code",
   "execution_count": 30,
   "outputs": [],
   "source": [
    "def sigmoid(x):\n",
    "  return 1 / (1 + np.exp(-x))"
   ],
   "metadata": {
    "collapsed": false,
    "pycharm": {
     "name": "#%%\n"
    }
   }
  },
  {
   "cell_type": "code",
   "execution_count": 144,
   "outputs": [],
   "source": [
    "class Word2Vec:\n",
    "\n",
    "\n",
    "    def __init__(self, data, dim, lr, k):\n",
    "\n",
    "        self._data = data\n",
    "        self._vocab = np.unique(data[['object', 'context']].values)\n",
    "        self._objects = np.unique(data[['object']].values)\n",
    "        self._vocab_mapping = {word: idx for idx, word in enumerate(self._vocab)}\n",
    "        self._vocab_count = None\n",
    "        self._vocab_prob = None\n",
    "        self._positives = None\n",
    "        self._calculate_sampling_prob()\n",
    "        self._prepare_positives()\n",
    "\n",
    "        self._lr = lr\n",
    "        self._dim = dim\n",
    "        self._k = k\n",
    "        self._W = np.random.rand(len(self._vocab), dim)\n",
    "\n",
    "    def _calculate_sampling_prob(self):\n",
    "\n",
    "        self._vocab_count = defaultdict(int)\n",
    "\n",
    "        for word in self._data['object']:\n",
    "            self._vocab_count[word] += 1\n",
    "\n",
    "        norm = sum([freq**(3/4) for freq in self._vocab_count.values()])\n",
    "        self._vocab_prob = {word: (freq** (3 / 4) / norm) for word, freq in self._vocab_count.items()}\n",
    "\n",
    "    def _prepare_positives(self):\n",
    "\n",
    "        self._positives = defaultdict(set)\n",
    "        for _, row in tqdm(self._data.iterrows()):\n",
    "            self._positives[row.context] |= {row.object}\n",
    "\n",
    "    # def word_to_one_hot(self, word):\n",
    "    #\n",
    "    #     one_hot = np.zeros(len(self._vocab_mapping))\n",
    "    #     one_hot[self._vocab_mapping[word]] = 1\n",
    "    #     return one_hot\n",
    "\n",
    "    def get_embedding(self, word):\n",
    "\n",
    "        return self._W[self._vocab_mapping[word], :]\n",
    "\n",
    "        # return self.word_to_one_hot(word) @ self._W\n",
    "\n",
    "    def update_embedding(self, word, gradient):\n",
    "        # idx = self.word_to_one_hot(word).astype(bool)\n",
    "        # self._W[idx] -= self._lr * gradient\n",
    "        self._W[self._vocab_mapping[word], :] -= self._lr * gradient\n",
    "\n",
    "    def forward(self, word):\n",
    "\n",
    "        return sigmoid(self._W[self._vocab_mapping[word], :])\n",
    "\n",
    "    def get_negative_sample(self, word, k):\n",
    "\n",
    "        negatives = []\n",
    "        for _ in range(k):\n",
    "            negative = np.random.choice(list(self._vocab_prob.keys()),\n",
    "                         p=list(self._vocab_prob.values()))\n",
    "\n",
    "            while negative in self._positives[word]:\n",
    "                negative = np.random.choice(list(self._vocab_prob.keys()),\n",
    "                             p=list(self._vocab_prob.values()))\n",
    "            negatives.append(negative)\n",
    "\n",
    "        return negatives\n",
    "\n",
    "    # def step(self, word, context):\n",
    "    # \n",
    "    #     loss = -np.log(sigmoid(self.get_embedding(word) @ self.get_embedding(context)))\n",
    "    #     negatives = self.get_negative_sample(word, self._k)\n",
    "    #     for negative in negatives:\n",
    "    #         loss -= np.log(sigmoid(-self.get_embedding(negative) @ self.get_embedding(context)))\n",
    "    # \n",
    "    #     derivative_object = -self.get_embedding(context)*(1 - sigmoid(self.get_embedding(word) @ self.get_embedding(context)))\n",
    "    #     derivative_context = -self.get_embedding(word)*(1 - sigmoid(self.get_embedding(word) @ self.get_embedding(context)))\n",
    "    #     for negative in negatives:\n",
    "    #         derivative_context += self.get_embedding(negative)*(1 - sigmoid(-self.get_embedding(negative) @ self.get_embedding(context)))\n",
    "    # \n",
    "    #     self.update_embedding(word, derivative_object)\n",
    "    #     self.update_embedding(context, derivative_context)\n",
    "    # \n",
    "    #     return loss\n",
    "    \n",
    "\n",
    "\n",
    "    def step(self, word, context, negatives):\n",
    "\n",
    "        loss = -np.log(sigmoid(self._W[self._vocab_mapping[word], :] @ self.get_embedding(context))) - np.log(sigmoid(-self._W[self._vocab_mapping[negatives], :] @ self._W[self._vocab_mapping[context], :]))\n",
    "\n",
    "        loss -= \n",
    "        derivative_object = -self.get_embedding(context)*(1 - sigmoid(self.get_embedding(word) @ self.get_embedding(context)))\n",
    "        derivative_context = -self.get_embedding(word)*(1 - sigmoid(self.get_embedding(word) @ self.get_embedding(context)))\n",
    "        for negative in negatives:\n",
    "            derivative_context += self.get_embedding(negative)*(1 - sigmoid(-self.get_embedding(negative) @ self.get_embedding(context)))\n",
    "\n",
    "        self.update_embedding(word, derivative_object)\n",
    "        self.update_embedding(context, derivative_context)\n",
    "\n",
    "        return loss    \n",
    "\n",
    "    def save_embeddings(self, path):\n",
    "        with open(path, 'w') as f:\n",
    "            f.write(f'{str(len(self._objects))} {str(self._dim)} \\n')\n",
    "            for word in self._objects:\n",
    "                embedding = self.get_embedding(word)\n",
    "                f.write(f'{word} {\" \".join(list(map(str, list(embedding))))}  \\n')"
   ],
   "metadata": {
    "collapsed": false,
    "pycharm": {
     "name": "#%%\n"
    }
   }
  },
  {
   "cell_type": "code",
   "execution_count": 148,
   "outputs": [],
   "source": [
    "data = pd.read_csv('task1_objects_contexts_polish.txt', sep=' ', names=['object', 'context'])\n",
    "data.context = data.context.map(lambda x: x if len(x.split(\"_\")) == 1 else x.split(\"_\")[1])"
   ],
   "metadata": {
    "collapsed": false,
    "pycharm": {
     "name": "#%%\n"
    }
   }
  },
  {
   "cell_type": "code",
   "execution_count": 149,
   "outputs": [
    {
     "data": {
      "text/plain": "0it [00:00, ?it/s]",
      "application/vnd.jupyter.widget-view+json": {
       "version_major": 2,
       "version_minor": 0,
       "model_id": "3be4e40d8bb24f8da6e7d53ad1cc5281"
      }
     },
     "metadata": {},
     "output_type": "display_data"
    }
   ],
   "source": [
    "w = Word2Vec(data, 20, 0.003, 5)"
   ],
   "metadata": {
    "collapsed": false,
    "pycharm": {
     "name": "#%%\n"
    }
   }
  },
  {
   "cell_type": "code",
   "execution_count": null,
   "outputs": [
    {
     "data": {
      "text/plain": "0it [00:00, ?it/s]",
      "application/vnd.jupyter.widget-view+json": {
       "version_major": 2,
       "version_minor": 0,
       "model_id": "b3df01aacea9498198b9cb792ab30d02"
      }
     },
     "metadata": {},
     "output_type": "display_data"
    },
    {
     "name": "stdout",
     "output_type": "stream",
     "text": [
      "25.005294288435874\n"
     ]
    },
    {
     "data": {
      "text/plain": "0it [00:00, ?it/s]",
      "application/vnd.jupyter.widget-view+json": {
       "version_major": 2,
       "version_minor": 0,
       "model_id": "553713f9ad2142578c0f59485385bc80"
      }
     },
     "metadata": {},
     "output_type": "display_data"
    },
    {
     "name": "stdout",
     "output_type": "stream",
     "text": [
      "24.570116761745922\n"
     ]
    },
    {
     "data": {
      "text/plain": "0it [00:00, ?it/s]",
      "application/vnd.jupyter.widget-view+json": {
       "version_major": 2,
       "version_minor": 0,
       "model_id": "7f5ec4031f264ef98cd432e04c46fced"
      }
     },
     "metadata": {},
     "output_type": "display_data"
    },
    {
     "name": "stdout",
     "output_type": "stream",
     "text": [
      "24.185943783834592\n"
     ]
    },
    {
     "data": {
      "text/plain": "0it [00:00, ?it/s]",
      "application/vnd.jupyter.widget-view+json": {
       "version_major": 2,
       "version_minor": 0,
       "model_id": "dc7d073e0f1a4610a9c0d4da56a5ceb3"
      }
     },
     "metadata": {},
     "output_type": "display_data"
    },
    {
     "name": "stdout",
     "output_type": "stream",
     "text": [
      "23.79314292653527\n"
     ]
    },
    {
     "data": {
      "text/plain": "0it [00:00, ?it/s]",
      "application/vnd.jupyter.widget-view+json": {
       "version_major": 2,
       "version_minor": 0,
       "model_id": "8b1646281c1143dfad5cd2e62459a5bc"
      }
     },
     "metadata": {},
     "output_type": "display_data"
    }
   ],
   "source": [
    "for epoch in range(20):\n",
    "    losses = []\n",
    "    for _, (word, context) in tqdm(data.iterrows()):\n",
    "        loss = w.step(word, context)\n",
    "        losses.append(loss)\n",
    "    print(np.mean(np.array(losses)))"
   ],
   "metadata": {
    "collapsed": false,
    "pycharm": {
     "name": "#%%\n",
     "is_executing": true
    }
   }
  },
  {
   "cell_type": "code",
   "execution_count": null,
   "outputs": [],
   "source": [
    "w.save_embeddings('task1_w2v_vectors.txt')"
   ],
   "metadata": {
    "collapsed": false,
    "pycharm": {
     "name": "#%%\n"
    }
   }
  },
  {
   "cell_type": "code",
   "execution_count": null,
   "outputs": [],
   "source": [
    "from gensim.models import KeyedVectors\n",
    "task1_wv = KeyedVectors.load_word2vec_format('task1_w2v_vectors.txt', binary=False)\n",
    "\n",
    "example_english_words = ['dog', 'dragon', 'love', 'bicycle', 'marathon', 'logic', 'butterfly']  # replace, or add your own examples\n",
    "example_polish_words = ['pies', 'smok', 'miłość', 'rower', 'maraton', 'logika', 'motyl']\n",
    "\n",
    "example_words = example_polish_words\n",
    "\n",
    "for w0 in example_words:\n",
    "    print ('WORD:', w)\n",
    "    for w, v in task1_wv.most_similar(w0):\n",
    "        print ('   ', w, v)\n",
    "    print ()"
   ],
   "metadata": {
    "collapsed": false,
    "pycharm": {
     "name": "#%%\n"
    }
   }
  },
  {
   "cell_type": "markdown",
   "id": "41228961",
   "metadata": {},
   "source": [
    "## Task 2 (4 points)\n",
    "\n",
    "Your task is to train the embeddings for Simple Wikipedia titles, using gensim library. As the example below shows, training is really simple:\n",
    "\n",
    "```python\n",
    "from gensim.test.utils import common_texts\n",
    "from gensim.models import Word2Vec\n",
    "model = Word2Vec(sentences=common_texts, vector_size=100, window=5, min_count=1, workers=4)\n",
    "model.save(\"word2vec.model\")\n",
    "```\n",
    "*sentences* can be a list of list of tokens, you can also use *gensim.models.word2vec.LineSentence(source)* to create restartable iterator from file. At first, use [this file] containing such pairs of titles, that one article links to another.\n",
    "\n",
    "We say that two titles are *related* if they both contain a word (or a word bigram) which is not very popular (it occurs only in several titles). Make this definition more precise, and create the corpora which contains pairs of related titles. Make a mixture of the original corpora, and the new one, then train title vectors again.\n",
    "\n",
    "Compare these two approaches using similar code to the code from Task 1."
   ]
  },
  {
   "cell_type": "code",
   "execution_count": 59,
   "id": "2f6ad8e4",
   "metadata": {},
   "outputs": [],
   "source": [
    "# The cell for your presentation"
   ]
  },
  {
   "cell_type": "markdown",
   "id": "d711fdca",
   "metadata": {},
   "source": [
    "# Task 3 (4 points)\n",
    "\n",
    "Suppose that we have two languages: Upper and Lower. This is an example Upper sentence:\n",
    "\n",
    "<pre>\n",
    "THE QUICK BROWN FOX JUMPS OVER THE LAZY DOG.\n",
    "</pre>\n",
    "\n",
    "And this is its translation into Lower:\n",
    "\n",
    "<pre>\n",
    "the quick brown fox jumps over the lazy dog\n",
    "</pre>\n",
    "\n",
    "You have two corpora for these languages (with different sentences). Your task is to train word embedings for both languages together, so as to make embeddings of the words which are its translations as close as possible. But unfortunately, you have the budget which allows you to prepare the translation only for 1000 words (we call it D, you have to deside which words you want to be in D)\n",
    "\n",
    "Prepare the corpora wich contains three kind of sentences:\n",
    "* Upper corpus sentences\n",
    "* Lower corpus sentences\n",
    "* sentences derived from Upper/Lower corpus, modified using D\n",
    "\n",
    "There are many possible ways of doing this, for instance this one (ROT13.COM: hfr rirel fragrapr sebz obgu pbecben gjvpr: jvgubhg nal zbqvsvpngvbaf, naq jvgu rirel jbeqf sebz Q ercynprq ol vgf genafyngvba)\n",
    "\n",
    "We define the score for an Upper WORD as  $\\frac{1}{p}$, where $p$ is a position of its translation in the list of **Lower** words most similar to WORD. For instance, when most similar words to DOG are:\n",
    "\n",
    "<pre>\n",
    "WOLF, CAT, WOLVES, LION, gopher, dog\n",
    "</pre>\n",
    "\n",
    "then the score for the word DOG is 0.5. Compute the average score separately for words from D, and for words out of D (hint: if the computation takes to much time do it for a random sample).\n"
   ]
  },
  {
   "cell_type": "markdown",
   "id": "4947e307",
   "metadata": {},
   "source": [
    "# Task 4 (4 points)\n",
    "\n",
    "In this task you are asked to do two things:\n",
    "1. compare the embeddings computed on small corpus (like Brown Corpus , see: <https://en.wikipedia.org/wiki/Brown_Corpus>) with the ones coming from Google News Corpus\n",
    "2. Try to use other resourses like WordNet to enrich to corpus, and obtain better embeddings\n",
    "\n",
    "You can use the following code snippets:\n",
    "\n",
    "```python\n",
    "# printing tokenized Brown Corpora\n",
    "from nltk.corpus import brown\n",
    "for s in brown.sents():\n",
    "    print(*s)\n",
    "    \n",
    "#iterating over all synsets in WordNet\n",
    "from nltk.corpus import wordnet as wn\n",
    "\n",
    "for synset_type in 'avrns': # n == noun, v == verb, ...\n",
    "    for synset in list(wn.all_synsets(synset_type)))[:10]:\n",
    "        print (synset.definition())\n",
    "        print (synset.examples())\n",
    "        print ([lem.name() for lem in synset.lemmas()])\n",
    "        print (synset.hyperonims()) # nodes 1 level up in ontology\n",
    "        \n",
    "# loading model and compute cosine similarity between words\n",
    "\n",
    "model = Word2Vec.load('models/w2v.wordnet5.model') \n",
    "print (model.wv.similarity('dog', 'cat'))\n",
    "```\n",
    "\n",
    "Embeddings will be tested using WordSim-353 dataset, the code showing the quality is in the cell below. Prepare the following corpora:\n",
    "1. Tokenized Brown Corpora\n",
    "2. Definitions and examples from Princeton WordNet\n",
    "3. (1) and (2) together\n",
    "4. (3) enriched with pseudosentences containing (a subset) of WordNet knowledge (such as 'tiger is a carnivore')\n",
    "\n",
    "Train 4 Word2Vec models, and raport Spearman correletion between similarities based on your vectors, and similarities based on human judgements.\n",
    "\n"
   ]
  },
  {
   "cell_type": "code",
   "execution_count": null,
   "id": "947a2fbc",
   "metadata": {},
   "outputs": [],
   "source": [
    "# Code for computing correlation between W2V similarity, and human judgements\n",
    "\n",
    "import gensim.downloader\n",
    "from scipy.stats import spearmanr\n",
    "\n",
    "gn = gensim.downloader.load('word2vec-google-news-300')\n",
    "\n",
    "for similarity_type in ['relatedness', 'similarity']:\n",
    "    ws353 = []\n",
    "    for x in open(f'wordsim_{similarity_type}_goldstandard.txt'): \n",
    "        a,b,val = x.split()\n",
    "        val = float(val)\n",
    "        ws353.append( (a,b,val))\n",
    "    # spearmanr returns 2 vallues: correlation and pval. pval should be close to zero\n",
    "    print (similarity_type + ':', spearmanr(vals, ys)) "
   ]
  },
  {
   "cell_type": "code",
   "execution_count": null,
   "id": "7cf71c95",
   "metadata": {},
   "outputs": [],
   "source": []
  }
 ],
 "metadata": {
  "kernelspec": {
   "display_name": "Python 3 (ipykernel)",
   "language": "python",
   "name": "python3"
  },
  "language_info": {
   "codemirror_mode": {
    "name": "ipython",
    "version": 3
   },
   "file_extension": ".py",
   "mimetype": "text/x-python",
   "name": "python",
   "nbconvert_exporter": "python",
   "pygments_lexer": "ipython3",
   "version": "3.10.4"
  }
 },
 "nbformat": 4,
 "nbformat_minor": 5
}