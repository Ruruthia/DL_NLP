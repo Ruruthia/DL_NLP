{
 "cells": [
  {
   "cell_type": "markdown",
   "id": "5ef34449",
   "metadata": {},
   "source": [
    "### Assigment 4\n",
    "\n",
    "**Submission deadlines**:\n",
    "\n",
    "* get at least 4 points by Tuesday, 12.05.2022\n",
    "* remaining points: last lab session before or on Tuesday, 19.05.2022\n",
    "\n",
    "**Points:** Aim to get 12 out of 15+ possible points\n",
    "\n",
    "All needed data files are on Drive: <https://drive.google.com/drive/folders/1HaMbhzaBxxNa_z_QJXSDCbv5VddmhVVZ?usp=sharing> (or will be soon :) )\n",
    "\n",
    "## Task 1 (5 points)\n",
    "\n",
    "Implement simplified word2vec with negative sampling from scratch (using pure numpy). Assume that in the training data objects and contexts are given explicitly, one pair per line, and objects are on the left. The result of the training should be object vectors. Please, write them to a file using *natural* text format, ie\n",
    "\n",
    "<pre>\n",
    "word1 x1_1 x1_2 ... x1_N \n",
    "word2 x2_1 x2_2 ... x2_N\n",
    "...\n",
    "wordK xK_1 xK_2 ... xk_N\n",
    "</pre>\n",
    "\n",
    "Use the loss from Slide 3 in Lecture NLP.2, compute the gradient manually. You can use some gradient clipping, or regularisation. \n",
    "\n",
    "**Remark**: the data is specially prepared to make the learning process easier. \n",
    "Present vectors using the code below. In this task we define success as 'obtaining a result which looks definitely not random'\n"
   ]
  },
  {
   "cell_type": "code",
   "execution_count": 1,
   "outputs": [],
   "source": [
    "from collections import defaultdict\n",
    "\n",
    "import numpy as np\n",
    "import pandas as pd\n",
    "from sklearn.preprocessing import LabelEncoder\n",
    "from tqdm.auto import tqdm"
   ],
   "metadata": {
    "collapsed": false,
    "pycharm": {
     "name": "#%%\n"
    }
   }
  },
  {
   "cell_type": "code",
   "execution_count": 2,
   "outputs": [],
   "source": [
    "def sigmoid(x):\n",
    "  return 1 / (1 + np.exp(-x))"
   ],
   "metadata": {
    "collapsed": false,
    "pycharm": {
     "name": "#%%\n"
    }
   }
  },
  {
   "cell_type": "code",
   "execution_count": 3,
   "outputs": [],
   "source": [
    "class Word2Vec:\n",
    "\n",
    "    def __init__(self, data, dim, lr):\n",
    "\n",
    "        self._data = data\n",
    "        self._object_encoder = LabelEncoder()\n",
    "        self._data['object'] = self._object_encoder.fit_transform(data['object'])\n",
    "        self._context_encoder = LabelEncoder()\n",
    "        self._data['context'] = self._context_encoder.fit_transform(data['context'])\n",
    "        self._objects = np.unique(data[['object']].values)\n",
    "        self._contexts = np.unique(data[['context']].values)\n",
    "        self._vocab_count = None\n",
    "        self._vocab_prob = None\n",
    "        self._positives = None\n",
    "        self._calculate_sampling_prob()\n",
    "        self._prepare_positives()\n",
    "\n",
    "        self._lr = lr\n",
    "        self._dim = dim\n",
    "        self._Wo = np.random.rand(len(self._objects), dim)\n",
    "        self._Wc = np.random.rand(len(self._contexts), dim)\n",
    "\n",
    "    def _calculate_sampling_prob(self):\n",
    "\n",
    "        self._vocab_count = defaultdict(int)\n",
    "\n",
    "        for word in self._data['object']:\n",
    "            self._vocab_count[word] += 1\n",
    "\n",
    "        norm = sum([freq**(3/4) for freq in self._vocab_count.values()])\n",
    "        self._vocab_prob = {word: (freq** (3 / 4) / norm) for word, freq in self._vocab_count.items()}\n",
    "\n",
    "    def _prepare_positives(self):\n",
    "\n",
    "        self._positives = defaultdict(set)\n",
    "        for _, row in tqdm(self._data.iterrows()):\n",
    "            self._positives[row.context] |= {row.object}\n",
    "\n",
    "    def update_object_embedding(self, word_idx, gradient):\n",
    "\n",
    "        self._Wo[word_idx, :] -= self._lr * gradient\n",
    "\n",
    "    def update_context_embedding(self, word_idx, gradient):\n",
    "\n",
    "        self._Wc[word_idx, :] -= self._lr * gradient\n",
    "\n",
    "    def get_negatives_sample(self, k):\n",
    "\n",
    "        negatives = np.random.choice(list(self._vocab_prob.keys()), size=(len(self._data), k), p=list(self._vocab_prob.values()))\n",
    "\n",
    "        return negatives\n",
    "\n",
    "    def step(self, idx, negatives):\n",
    "        word_idx, context_idx = self._data.iloc[idx]\n",
    "        negatives = list(set(negatives) - set(self._positives[context_idx]))\n",
    "\n",
    "        loss = -np.log(sigmoid(self._Wo[word_idx, :] @ self._Wc[context_idx, :])) - np.sum(np.log(sigmoid(-self._Wo[negatives, :] @ self._Wc[context_idx, :])))\n",
    "        derivative_object = -self._Wc[context_idx, :]*(1 - sigmoid(self._Wo[word_idx, :] @ self._Wc[context_idx, :]))\n",
    "        derivative_context = -self._Wo[word_idx, :]*(1 - sigmoid(self._Wo[word_idx, :] @ self._Wc[context_idx, :])) \\\n",
    "                             + np.sum(self._Wo[negatives, :].T * (1 - sigmoid(-self._Wc[context_idx, :].reshape(1, -1) @ self._Wo[negatives, :].T)), axis=1)\n",
    "\n",
    "        self.update_object_embedding(word_idx, derivative_object)\n",
    "        self.update_context_embedding(context_idx, derivative_context)\n",
    "\n",
    "        return loss\n",
    "\n",
    "    def save_embeddings(self, path):\n",
    "        with open(path, 'w') as f:\n",
    "            f.write(f'{str(len(self._objects))} {str(self._dim)} \\n')\n",
    "            for word in self._objects:\n",
    "                embedding = self._Wo[word]\n",
    "                f.write(f'{self._object_encoder.inverse_transform([word])[0]} {\" \".join(list(map(str, list(embedding))))}  \\n')"
   ],
   "metadata": {
    "collapsed": false,
    "pycharm": {
     "name": "#%%\n"
    }
   }
  },
  {
   "cell_type": "code",
   "execution_count": 4,
   "outputs": [],
   "source": [
    "data = pd.read_csv('task1_objects_contexts_polish.txt', sep=' ', names=['object', 'context'])"
   ],
   "metadata": {
    "collapsed": false,
    "pycharm": {
     "name": "#%%\n"
    }
   }
  },
  {
   "cell_type": "code",
   "execution_count": 5,
   "outputs": [
    {
     "data": {
      "text/plain": "0it [00:00, ?it/s]",
      "application/vnd.jupyter.widget-view+json": {
       "version_major": 2,
       "version_minor": 0,
       "model_id": "468df83f9a4b47f19db79ab7ba411c5a"
      }
     },
     "metadata": {},
     "output_type": "display_data"
    }
   ],
   "source": [
    "w = Word2Vec(data, 20, 0.01)"
   ],
   "metadata": {
    "collapsed": false,
    "pycharm": {
     "name": "#%%\n"
    }
   }
  },
  {
   "cell_type": "code",
   "execution_count": 6,
   "outputs": [
    {
     "name": "stdout",
     "output_type": "stream",
     "text": [
      "EPOCH 0\n"
     ]
    },
    {
     "data": {
      "text/plain": "  0%|          | 0/5525116 [00:00<?, ?it/s]",
      "application/vnd.jupyter.widget-view+json": {
       "version_major": 2,
       "version_minor": 0,
       "model_id": "fe9eb6e6f3774cfb974f14ecf3d6ac58"
      }
     },
     "metadata": {},
     "output_type": "display_data"
    },
    {
     "name": "stdout",
     "output_type": "stream",
     "text": [
      "6.07505048998839\n",
      "EPOCH 1\n"
     ]
    },
    {
     "data": {
      "text/plain": "  0%|          | 0/5525116 [00:00<?, ?it/s]",
      "application/vnd.jupyter.widget-view+json": {
       "version_major": 2,
       "version_minor": 0,
       "model_id": "079cf7fdb3ba4e05aa6322d28303d660"
      }
     },
     "metadata": {},
     "output_type": "display_data"
    },
    {
     "name": "stdout",
     "output_type": "stream",
     "text": [
      "4.205103797833125\n",
      "EPOCH 2\n"
     ]
    },
    {
     "data": {
      "text/plain": "  0%|          | 0/5525116 [00:00<?, ?it/s]",
      "application/vnd.jupyter.widget-view+json": {
       "version_major": 2,
       "version_minor": 0,
       "model_id": "f6cbbf53b2544e17a3bfb31c0c6302b6"
      }
     },
     "metadata": {},
     "output_type": "display_data"
    },
    {
     "name": "stdout",
     "output_type": "stream",
     "text": [
      "4.208122511127881\n",
      "EPOCH 3\n"
     ]
    },
    {
     "data": {
      "text/plain": "  0%|          | 0/5525116 [00:00<?, ?it/s]",
      "application/vnd.jupyter.widget-view+json": {
       "version_major": 2,
       "version_minor": 0,
       "model_id": "bd157439b6524cba8a47c0981e3965ab"
      }
     },
     "metadata": {},
     "output_type": "display_data"
    },
    {
     "name": "stdout",
     "output_type": "stream",
     "text": [
      "4.15037952256908\n",
      "EPOCH 4\n"
     ]
    },
    {
     "data": {
      "text/plain": "  0%|          | 0/5525116 [00:00<?, ?it/s]",
      "application/vnd.jupyter.widget-view+json": {
       "version_major": 2,
       "version_minor": 0,
       "model_id": "844d4b82721a40aab4f788124b79ea09"
      }
     },
     "metadata": {},
     "output_type": "display_data"
    },
    {
     "name": "stdout",
     "output_type": "stream",
     "text": [
      "4.102408981545655\n",
      "EPOCH 5\n"
     ]
    },
    {
     "data": {
      "text/plain": "  0%|          | 0/5525116 [00:00<?, ?it/s]",
      "application/vnd.jupyter.widget-view+json": {
       "version_major": 2,
       "version_minor": 0,
       "model_id": "e37e7c043f8d42cb9fec6568a6ddfa30"
      }
     },
     "metadata": {},
     "output_type": "display_data"
    },
    {
     "name": "stdout",
     "output_type": "stream",
     "text": [
      "4.0664201420036274\n",
      "EPOCH 6\n"
     ]
    },
    {
     "data": {
      "text/plain": "  0%|          | 0/5525116 [00:00<?, ?it/s]",
      "application/vnd.jupyter.widget-view+json": {
       "version_major": 2,
       "version_minor": 0,
       "model_id": "d8c742f9bab349f08b6330b504b5058a"
      }
     },
     "metadata": {},
     "output_type": "display_data"
    },
    {
     "name": "stdout",
     "output_type": "stream",
     "text": [
      "4.037111534128647\n",
      "EPOCH 7\n"
     ]
    },
    {
     "data": {
      "text/plain": "  0%|          | 0/5525116 [00:00<?, ?it/s]",
      "application/vnd.jupyter.widget-view+json": {
       "version_major": 2,
       "version_minor": 0,
       "model_id": "c457760cbe4042488197aaa08d17f905"
      }
     },
     "metadata": {},
     "output_type": "display_data"
    },
    {
     "name": "stdout",
     "output_type": "stream",
     "text": [
      "4.015244475996828\n",
      "EPOCH 8\n"
     ]
    },
    {
     "data": {
      "text/plain": "  0%|          | 0/5525116 [00:00<?, ?it/s]",
      "application/vnd.jupyter.widget-view+json": {
       "version_major": 2,
       "version_minor": 0,
       "model_id": "0b73738e657442b7b95f9f15dc2bb952"
      }
     },
     "metadata": {},
     "output_type": "display_data"
    },
    {
     "name": "stdout",
     "output_type": "stream",
     "text": [
      "3.99764462159789\n",
      "EPOCH 9\n"
     ]
    },
    {
     "data": {
      "text/plain": "  0%|          | 0/5525116 [00:00<?, ?it/s]",
      "application/vnd.jupyter.widget-view+json": {
       "version_major": 2,
       "version_minor": 0,
       "model_id": "d380d26ad8504ae2aaffe650d82ee69b"
      }
     },
     "metadata": {},
     "output_type": "display_data"
    },
    {
     "name": "stdout",
     "output_type": "stream",
     "text": [
      "3.9853046416755697\n",
      "EPOCH 10\n"
     ]
    },
    {
     "data": {
      "text/plain": "  0%|          | 0/5525116 [00:00<?, ?it/s]",
      "application/vnd.jupyter.widget-view+json": {
       "version_major": 2,
       "version_minor": 0,
       "model_id": "2cb62e2561f64f55b2e83591b59ed469"
      }
     },
     "metadata": {},
     "output_type": "display_data"
    },
    {
     "name": "stdout",
     "output_type": "stream",
     "text": [
      "3.976390358595205\n",
      "EPOCH 11\n"
     ]
    },
    {
     "data": {
      "text/plain": "  0%|          | 0/5525116 [00:00<?, ?it/s]",
      "application/vnd.jupyter.widget-view+json": {
       "version_major": 2,
       "version_minor": 0,
       "model_id": "e69c09c2a4fc48dca49fbc39358ceb31"
      }
     },
     "metadata": {},
     "output_type": "display_data"
    },
    {
     "name": "stdout",
     "output_type": "stream",
     "text": [
      "3.9686737359713704\n",
      "EPOCH 12\n"
     ]
    },
    {
     "data": {
      "text/plain": "  0%|          | 0/5525116 [00:00<?, ?it/s]",
      "application/vnd.jupyter.widget-view+json": {
       "version_major": 2,
       "version_minor": 0,
       "model_id": "77e9e9db0163417b9ab15d186d8d97fb"
      }
     },
     "metadata": {},
     "output_type": "display_data"
    },
    {
     "name": "stdout",
     "output_type": "stream",
     "text": [
      "3.964321558658121\n",
      "EPOCH 13\n"
     ]
    },
    {
     "data": {
      "text/plain": "  0%|          | 0/5525116 [00:00<?, ?it/s]",
      "application/vnd.jupyter.widget-view+json": {
       "version_major": 2,
       "version_minor": 0,
       "model_id": "c91f849bb6f94c5394d05dcc3fe82a59"
      }
     },
     "metadata": {},
     "output_type": "display_data"
    },
    {
     "name": "stdout",
     "output_type": "stream",
     "text": [
      "3.962011747205926\n",
      "EPOCH 14\n"
     ]
    },
    {
     "data": {
      "text/plain": "  0%|          | 0/5525116 [00:00<?, ?it/s]",
      "application/vnd.jupyter.widget-view+json": {
       "version_major": 2,
       "version_minor": 0,
       "model_id": "100e97ddd25e458482ba64c07c9496a1"
      }
     },
     "metadata": {},
     "output_type": "display_data"
    },
    {
     "name": "stdout",
     "output_type": "stream",
     "text": [
      "3.960365536200353\n",
      "EPOCH 15\n"
     ]
    },
    {
     "data": {
      "text/plain": "  0%|          | 0/5525116 [00:00<?, ?it/s]",
      "application/vnd.jupyter.widget-view+json": {
       "version_major": 2,
       "version_minor": 0,
       "model_id": "f8be80327a1342eeaf8a7a55627596ad"
      }
     },
     "metadata": {},
     "output_type": "display_data"
    },
    {
     "name": "stdout",
     "output_type": "stream",
     "text": [
      "3.9600800851822706\n",
      "EPOCH 16\n"
     ]
    },
    {
     "data": {
      "text/plain": "  0%|          | 0/5525116 [00:00<?, ?it/s]",
      "application/vnd.jupyter.widget-view+json": {
       "version_major": 2,
       "version_minor": 0,
       "model_id": "6bca6765067a4caf918a7962a3bf0d3c"
      }
     },
     "metadata": {},
     "output_type": "display_data"
    },
    {
     "name": "stdout",
     "output_type": "stream",
     "text": [
      "3.9605015391904077\n",
      "EPOCH 17\n"
     ]
    },
    {
     "data": {
      "text/plain": "  0%|          | 0/5525116 [00:00<?, ?it/s]",
      "application/vnd.jupyter.widget-view+json": {
       "version_major": 2,
       "version_minor": 0,
       "model_id": "e19cca331df740c6982523cceb1f240b"
      }
     },
     "metadata": {},
     "output_type": "display_data"
    },
    {
     "name": "stdout",
     "output_type": "stream",
     "text": [
      "3.961706487544347\n",
      "EPOCH 18\n"
     ]
    },
    {
     "data": {
      "text/plain": "  0%|          | 0/5525116 [00:00<?, ?it/s]",
      "application/vnd.jupyter.widget-view+json": {
       "version_major": 2,
       "version_minor": 0,
       "model_id": "8add8b5c7b2d490e9517e4af03693225"
      }
     },
     "metadata": {},
     "output_type": "display_data"
    },
    {
     "name": "stdout",
     "output_type": "stream",
     "text": [
      "3.963314780543266\n",
      "EPOCH 19\n"
     ]
    },
    {
     "data": {
      "text/plain": "  0%|          | 0/5525116 [00:00<?, ?it/s]",
      "application/vnd.jupyter.widget-view+json": {
       "version_major": 2,
       "version_minor": 0,
       "model_id": "44fc4b0c8dfc41ffb61ad3b0de9c4636"
      }
     },
     "metadata": {},
     "output_type": "display_data"
    },
    {
     "name": "stdout",
     "output_type": "stream",
     "text": [
      "3.9665752325498493\n"
     ]
    }
   ],
   "source": [
    "for epoch in range(20):\n",
    "    negatives = w.get_negatives_sample(5)\n",
    "    print(f\"EPOCH {epoch}\")\n",
    "    losses = []\n",
    "    for i in tqdm(range(len(negatives))):\n",
    "        loss = w.step(i, negatives[i])\n",
    "        losses.append(loss)\n",
    "    print(np.mean(np.array(losses)))"
   ],
   "metadata": {
    "collapsed": false,
    "pycharm": {
     "name": "#%%\n"
    }
   }
  },
  {
   "cell_type": "code",
   "execution_count": 7,
   "outputs": [],
   "source": [
    "w.save_embeddings('task1_w2v_vectors.txt')"
   ],
   "metadata": {
    "collapsed": false,
    "pycharm": {
     "name": "#%%\n"
    }
   }
  },
  {
   "cell_type": "code",
   "execution_count": 11,
   "outputs": [
    {
     "name": "stdout",
     "output_type": "stream",
     "text": [
      "WORD: pies\n",
      "    koń 0.9517124891281128\n",
      "    kot 0.9100876450538635\n",
      "    krowa 0.9069613814353943\n",
      "    zwierzę 0.8956605195999146\n",
      "    baba 0.8795665502548218\n",
      "    dziewczyna 0.8694310784339905\n",
      "    mężczyzna 0.8668525815010071\n",
      "    ptak 0.8655155301094055\n",
      "    chłopiec 0.8645903468132019\n",
      "    facet 0.8518747687339783\n",
      "\n",
      "WORD: smok\n",
      "    potwór 0.8994752764701843\n",
      "    niedźwiedź 0.896720826625824\n",
      "    dziewczę 0.896420419216156\n",
      "    kot 0.8909311890602112\n",
      "    maluch 0.8871726989746094\n",
      "    panienka 0.8804367780685425\n",
      "    dzieciak 0.877396285533905\n",
      "    mucha 0.8752036690711975\n",
      "    wiedźma 0.8732087016105652\n",
      "    tygrys 0.869754433631897\n",
      "\n",
      "WORD: miłość\n",
      "    wiara 0.8628854155540466\n",
      "    duch 0.7667196393013\n",
      "    prawda 0.766288161277771\n",
      "    bóg 0.760909914970398\n",
      "    wyobraźnia 0.7606624364852905\n",
      "    młodość 0.7587139010429382\n",
      "    radość 0.7577516436576843\n",
      "    zło 0.7552950382232666\n",
      "    uczucie 0.7470588088035583\n",
      "    przyjaźń 0.7453605532646179\n",
      "\n",
      "WORD: rower\n",
      "    motocykl 0.9155734777450562\n",
      "    wózek 0.9037888646125793\n",
      "    telewizor 0.9026089310646057\n",
      "    limuzyna 0.8952810168266296\n",
      "    wóz 0.8825356364250183\n",
      "    auto 0.8778617978096008\n",
      "    ciężarówka 0.8661344647407532\n",
      "    wanna 0.8539314866065979\n",
      "    trumna 0.8537191152572632\n",
      "    namiot 0.8506611585617065\n",
      "\n",
      "WORD: maraton\n",
      "    rajd 0.870089590549469\n",
      "    piknik 0.8687446713447571\n",
      "    jubileusz 0.8647351264953613\n",
      "    obchód 0.863508939743042\n",
      "    potyczka 0.8594064712524414\n",
      "    turniej 0.8574094176292419\n",
      "    set 0.8568875789642334\n",
      "    festyn 0.8528019785881042\n",
      "    jarmark 0.8525531888008118\n",
      "    sparing 0.8522839546203613\n",
      "\n",
      "WORD: logika\n",
      "    złożoność 0.8525761365890503\n",
      "    filozofia 0.8508092761039734\n",
      "    etyka 0.8497163653373718\n",
      "    geneza 0.8474440574645996\n",
      "    ideał 0.8469904065132141\n",
      "    specyfika 0.8436583876609802\n",
      "    orientacja 0.8379095792770386\n",
      "    odmienność 0.8348488807678223\n",
      "    zagadnienie 0.8275545835494995\n",
      "    pojmowanie 0.8215750455856323\n",
      "\n",
      "WORD: motyl\n",
      "    ptak 0.9180769920349121\n",
      "    owad 0.9126334190368652\n",
      "    wąż 0.90543133020401\n",
      "    żółw 0.9046567678451538\n",
      "    mrówka 0.8719978332519531\n",
      "    ślimak 0.865896463394165\n",
      "    żaba 0.8539764285087585\n",
      "    potwór 0.849324643611908\n",
      "    mysz 0.8475809693336487\n",
      "    tygrys 0.8447991609573364\n",
      "\n"
     ]
    }
   ],
   "source": [
    "from gensim.models import KeyedVectors\n",
    "task1_wv = KeyedVectors.load_word2vec_format('task1_w2v_vectors.txt', binary=False)\n",
    "\n",
    "example_english_words = ['dog', 'dragon', 'love', 'bicycle', 'marathon', 'logic', 'butterfly']  # replace, or add your own examples\n",
    "example_polish_words = ['pies', 'smok', 'miłość', 'rower', 'maraton', 'logika', 'motyl']\n",
    "\n",
    "example_words = example_polish_words\n",
    "\n",
    "for w0 in example_words:\n",
    "    print ('WORD:', w0)\n",
    "    for w, v in task1_wv.most_similar(w0):\n",
    "        print ('   ', w, v)\n",
    "    print ()"
   ],
   "metadata": {
    "collapsed": false,
    "pycharm": {
     "name": "#%%\n"
    }
   }
  },
  {
   "cell_type": "markdown",
   "id": "41228961",
   "metadata": {},
   "source": [
    "## Task 2 (4 points)\n",
    "\n",
    "Your task is to train the embeddings for Simple Wikipedia titles, using gensim library. As the example below shows, training is really simple:\n",
    "\n",
    "```python\n",
    "from gensim.test.utils import common_texts\n",
    "from gensim.models import Word2Vec\n",
    "model = Word2Vec(sentences=common_texts, vector_size=100, window=5, min_count=1, workers=4)\n",
    "model.save(\"word2vec.model\")\n",
    "```\n",
    "*sentences* can be a list of list of tokens, you can also use *gensim.models.word2vec.LineSentence(source)* to create restartable iterator from file. At first, use [this file] containing such pairs of titles, that one article links to another.\n",
    "\n",
    "We say that two titles are *related* if they both contain a word (or a word bigram) which is not very popular (it occurs only in several titles). Make this definition more precise, and create the corpora which contains pairs of related titles. Make a mixture of the original corpora, and the new one, then train title vectors again.\n",
    "\n",
    "Compare these two approaches using similar code to the code from Task 1."
   ]
  },
  {
   "cell_type": "code",
   "execution_count": 3,
   "id": "2f6ad8e4",
   "metadata": {},
   "outputs": [],
   "source": [
    "# The cell for your presentation\n",
    "from gensim.models import Word2Vec\n",
    "from gensim.models.word2vec import LineSentence\n",
    "\n",
    "\n",
    "# model = Word2Vec(sentences=common_texts, vector_size=100, window=5, min_count=1, workers=4)\n",
    "# model.save(\"word2vec.model\")"
   ]
  },
  {
   "cell_type": "code",
   "execution_count": 4,
   "outputs": [],
   "source": [
    "data = LineSentence('simple_wiki_links.txt')"
   ],
   "metadata": {
    "collapsed": false,
    "pycharm": {
     "name": "#%%\n"
    }
   }
  },
  {
   "cell_type": "code",
   "execution_count": 6,
   "outputs": [],
   "source": [
    "model = Word2Vec(sentences=data, vector_size=100, window=5, min_count=1, workers=4)"
   ],
   "metadata": {
    "collapsed": false,
    "pycharm": {
     "name": "#%%\n"
    }
   }
  },
  {
   "cell_type": "code",
   "execution_count": 11,
   "outputs": [
    {
     "name": "stdout",
     "output_type": "stream",
     "text": [
      "wartburgkreis\n",
      "rhein-sieg-kreis\n",
      "ministry_of_labour_and_social_affairs_of_germany\n",
      "alb-donau-kreis\n",
      "wolfgang_thonke\n",
      "jack_nicholson\n",
      "garry_shandling\n",
      "ben_affleck\n",
      "robert_duvall\n",
      "jerry_seinfeld\n",
      "mammal\n",
      "species\n",
      "plant\n",
      "genus\n",
      "bird\n",
      "crusades\n",
      "yuri_gagarin\n",
      "colonialism\n",
      "holocaust_victims\n",
      "ustaše\n"
     ]
    }
   ],
   "source": [
    "example_titles = [\"hyperinflation\", \"kevin_spacey\", \"animal\", \"catholicism\"]\n",
    "for word in example_titles:\n",
    "    print(f'WORD: {word}')\n",
    "    for similar_word, score in model.wv.most_similar(word, topn=5):\n",
    "        print(similar_word)\n",
    "    print()"
   ],
   "metadata": {
    "collapsed": false,
    "pycharm": {
     "name": "#%%\n"
    }
   }
  },
  {
   "cell_type": "markdown",
   "id": "d711fdca",
   "metadata": {},
   "source": [
    "# Task 3 (4 points)\n",
    "\n",
    "Suppose that we have two languages: Upper and Lower. This is an example Upper sentence:\n",
    "\n",
    "<pre>\n",
    "THE QUICK BROWN FOX JUMPS OVER THE LAZY DOG.\n",
    "</pre>\n",
    "\n",
    "And this is its translation into Lower:\n",
    "\n",
    "<pre>\n",
    "the quick brown fox jumps over the lazy dog\n",
    "</pre>\n",
    "\n",
    "You have two corpora for these languages (with different sentences). Your task is to train word embedings for both languages together, so as to make embeddings of the words which are its translations as close as possible. But unfortunately, you have the budget which allows you to prepare the translation only for 1000 words (we call it D, you have to deside which words you want to be in D)\n",
    "\n",
    "Prepare the corpora wich contains three kind of sentences:\n",
    "* Upper corpus sentences\n",
    "* Lower corpus sentences\n",
    "* sentences derived from Upper/Lower corpus, modified using D\n",
    "\n",
    "There are many possible ways of doing this, for instance this one (ROT13.COM: hfr rirel fragrapr sebz obgu pbecben gjvpr: jvgubhg nal zbqvsvpngvbaf, naq jvgu rirel jbeqf sebz Q ercynprq ol vgf genafyngvba)\n",
    "\n",
    "We define the score for an Upper WORD as  $\\frac{1}{p}$, where $p$ is a position of its translation in the list of **Lower** words most similar to WORD. For instance, when most similar words to DOG are:\n",
    "\n",
    "<pre>\n",
    "WOLF, CAT, WOLVES, LION, gopher, dog\n",
    "</pre>\n",
    "\n",
    "then the score for the word DOG is 0.5. Compute the average score separately for words from D, and for words out of D (hint: if the computation takes to much time do it for a random sample).\n"
   ]
  },
  {
   "cell_type": "markdown",
   "id": "4947e307",
   "metadata": {},
   "source": [
    "# Task 4 (4 points)\n",
    "\n",
    "In this task you are asked to do two things:\n",
    "1. compare the embeddings computed on small corpus (like Brown Corpus , see: <https://en.wikipedia.org/wiki/Brown_Corpus>) with the ones coming from Google News Corpus\n",
    "2. Try to use other resourses like WordNet to enrich to corpus, and obtain better embeddings\n",
    "\n",
    "You can use the following code snippets:\n",
    "\n",
    "```python\n",
    "# printing tokenized Brown Corpora\n",
    "from nltk.corpus import brown\n",
    "for s in brown.sents():\n",
    "    print(*s)\n",
    "    \n",
    "#iterating over all synsets in WordNet\n",
    "from nltk.corpus import wordnet as wn\n",
    "\n",
    "for synset_type in 'avrns': # n == noun, v == verb, ...\n",
    "    for synset in list(wn.all_synsets(synset_type)))[:10]:\n",
    "        print (synset.definition())\n",
    "        print (synset.examples())\n",
    "        print ([lem.name() for lem in synset.lemmas()])\n",
    "        print (synset.hyperonims()) # nodes 1 level up in ontology\n",
    "        \n",
    "# loading model and compute cosine similarity between words\n",
    "\n",
    "model = Word2Vec.load('models/w2v.wordnet5.model') \n",
    "print (model.wv.similarity('dog', 'cat'))\n",
    "```\n",
    "\n",
    "Embeddings will be tested using WordSim-353 dataset, the code showing the quality is in the cell below. Prepare the following corpora:\n",
    "1. Tokenized Brown Corpora\n",
    "2. Definitions and examples from Princeton WordNet\n",
    "3. (1) and (2) together\n",
    "4. (3) enriched with pseudosentences containing (a subset) of WordNet knowledge (such as 'tiger is a carnivore')\n",
    "\n",
    "Train 4 Word2Vec models, and raport Spearman correletion between similarities based on your vectors, and similarities based on human judgements.\n",
    "\n"
   ]
  },
  {
   "cell_type": "code",
   "execution_count": 10,
   "id": "947a2fbc",
   "metadata": {},
   "outputs": [
    {
     "name": "stdout",
     "output_type": "stream",
     "text": [
      "[==================================================] 100.0% 1662.8/1662.8MB downloaded\n"
     ]
    },
    {
     "ename": "FileNotFoundError",
     "evalue": "[Errno 2] No such file or directory: 'wordsim_relatedness_goldstandard.txt'",
     "output_type": "error",
     "traceback": [
      "\u001B[0;31m---------------------------------------------------------------------------\u001B[0m",
      "\u001B[0;31mFileNotFoundError\u001B[0m                         Traceback (most recent call last)",
      "Input \u001B[0;32mIn [10]\u001B[0m, in \u001B[0;36m<cell line: 8>\u001B[0;34m()\u001B[0m\n\u001B[1;32m      8\u001B[0m \u001B[38;5;28;01mfor\u001B[39;00m similarity_type \u001B[38;5;129;01min\u001B[39;00m [\u001B[38;5;124m'\u001B[39m\u001B[38;5;124mrelatedness\u001B[39m\u001B[38;5;124m'\u001B[39m, \u001B[38;5;124m'\u001B[39m\u001B[38;5;124msimilarity\u001B[39m\u001B[38;5;124m'\u001B[39m]:\n\u001B[1;32m      9\u001B[0m     ws353 \u001B[38;5;241m=\u001B[39m []\n\u001B[0;32m---> 10\u001B[0m     \u001B[38;5;28;01mfor\u001B[39;00m x \u001B[38;5;129;01min\u001B[39;00m \u001B[38;5;28;43mopen\u001B[39;49m\u001B[43m(\u001B[49m\u001B[38;5;124;43mf\u001B[39;49m\u001B[38;5;124;43m'\u001B[39;49m\u001B[38;5;124;43mwordsim_\u001B[39;49m\u001B[38;5;132;43;01m{\u001B[39;49;00m\u001B[43msimilarity_type\u001B[49m\u001B[38;5;132;43;01m}\u001B[39;49;00m\u001B[38;5;124;43m_goldstandard.txt\u001B[39;49m\u001B[38;5;124;43m'\u001B[39;49m\u001B[43m)\u001B[49m: \n\u001B[1;32m     11\u001B[0m         a,b,val \u001B[38;5;241m=\u001B[39m x\u001B[38;5;241m.\u001B[39msplit()\n\u001B[1;32m     12\u001B[0m         val \u001B[38;5;241m=\u001B[39m \u001B[38;5;28mfloat\u001B[39m(val)\n",
      "\u001B[0;31mFileNotFoundError\u001B[0m: [Errno 2] No such file or directory: 'wordsim_relatedness_goldstandard.txt'"
     ]
    }
   ],
   "source": [
    "# Code for computing correlation between W2V similarity, and human judgements\n",
    "\n",
    "import gensim.downloader\n",
    "from scipy.stats import spearmanr\n",
    "\n",
    "gn = gensim.downloader.load('word2vec-google-news-300')\n",
    "\n",
    "for similarity_type in ['relatedness', 'similarity']:\n",
    "    ws353 = []\n",
    "    for x in open(f'wordsim_{similarity_type}_goldstandard.txt'): \n",
    "        a,b,val = x.split()\n",
    "        val = float(val)\n",
    "        ws353.append( (a,b,val))\n",
    "    # spearmanr returns 2 vallues: correlation and pval. pval should be close to zero\n",
    "    print (similarity_type + ':', spearmanr(vals, ys)) "
   ]
  },
  {
   "cell_type": "code",
   "execution_count": null,
   "id": "7cf71c95",
   "metadata": {},
   "outputs": [],
   "source": []
  }
 ],
 "metadata": {
  "kernelspec": {
   "display_name": "Python 3 (ipykernel)",
   "language": "python",
   "name": "python3"
  },
  "language_info": {
   "codemirror_mode": {
    "name": "ipython",
    "version": 3
   },
   "file_extension": ".py",
   "mimetype": "text/x-python",
   "name": "python",
   "nbconvert_exporter": "python",
   "pygments_lexer": "ipython3",
   "version": "3.10.4"
  }
 },
 "nbformat": 4,
 "nbformat_minor": 5
}